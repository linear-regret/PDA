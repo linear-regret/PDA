{
 "cells": [
  {
   "attachments": {},
   "cell_type": "markdown",
   "metadata": {},
   "source": [
    "# 6.1-1 DOA\n",
    "\n",
    "El desfase se mueve a nievel muestra. \n",
    "\n",
    "El desfase de ventanas es de 27 así que se puede hacer búsqueda exhaustiva.\n",
    "\n",
    "Código en octave para ver correlación cruzada.\n",
    "\n",
    "El delay en octave hay que restarle 1 porque los índice se los arrays empiezan en 1. \n",
    "\n",
    "1. Se saca la transformada de fourier de ambos\n",
    "2. Producto punto para \n",
    "3. Lo regresamos al espacio de tiempo, luego calculamos correlación.\n",
    "4. Sacamos el tiempo de retraso con el máximo\n",
    "5. Sacamos el ángulo con el $\\arccos$\n",
    "\n",
    "Es importante que en las correlaciones haya deltas.\n",
    "Se normaliza en dominio de frecuencia ahora.\n",
    "Se fuerzan las magnitudes a ser 1 para que sean deltas. \n",
    "Las deltas se quedan iguales\n",
    "\n",
    "Uniendo todas estas ideas en GCCPHAT \n",
    "\n",
    "Hay que tener cuidado con el bleeding porque se normalizan las colas de las ondas. Se puede hacer hanning de la señal. \n",
    "\n",
    "`conjf` para conjugar las variables en c++.\n",
    "\n",
    "\n",
    "\n",
    "Empezar a trabajar en estas cosas. Hacer el ejercicio en C, probarlo en los conjuntos de AIRA. \n",
    "\n",
    "Si sólo hay una fuente esto funciona muy bien. Para varias fuentes tenemos que hacer cosas adicionales. \n",
    "\n",
    "De los archivos de octave `.m` no preocuparse por los arreglos que vienen con las consideraciones del espacio, etc.\n",
    "\n",
    "\n",
    "\n"
   ]
  },
  {
   "attachments": {},
   "cell_type": "markdown",
   "metadata": {},
   "source": [
    "Se agrega ruido y reverb. \n",
    "\n",
    "Estar probando todo el código. \n",
    "\n",
    "También se puede probar en octave, sólo no hay que ponerle las cosas de reverb y ruido porque pues ya lo tiene\n",
    "\n",
    "El de phat es muy sensible al ruido, mientras que Pearson no tanto, esto se debería de ver en el código de octave.\n",
    "\n",
    "Qué hace la reverberación en el audio y cómo se escucha?\n",
    "\n",
    "Ir recopilando varias ventanas. Luego ves cuáles picos se mantienen y cuáles no. \n",
    "\n",
    "Problema de encontrar picos de una señal "
   ]
  },
  {
   "attachments": {},
   "cell_type": "markdown",
   "metadata": {},
   "source": [
    "## MUSIC\n",
    "\n",
    "Resuelve el problema de las ventanas. Con los 1024 valores te regresan los demás valores"
   ]
  }
 ],
 "metadata": {
  "kernelspec": {
   "display_name": "Python 3",
   "language": "python",
   "name": "python3"
  },
  "language_info": {
   "name": "python",
   "version": "3.10.6"
  },
  "orig_nbformat": 4,
  "vscode": {
   "interpreter": {
    "hash": "916dbcbb3f70747c44a77c7bcd40155683ae19c65e1c03b4aa3499c5328201f1"
   }
  }
 },
 "nbformat": 4,
 "nbformat_minor": 2
}
