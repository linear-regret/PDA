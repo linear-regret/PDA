{
 "cells": [
  {
   "attachments": {},
   "cell_type": "markdown",
   "metadata": {},
   "source": [
    "# Fechas\n",
    "\n",
    "## 30 de mayo presentación\n",
    "\n",
    "Un día antes mandar presentación y diapositivas. \n",
    "\n",
    "## martes 25 de abril sesión intermedia\n",
    "\n",
    "Nos vemos para ver el progreso. No hay que hacer presentación. \n",
    "\n",
    "Martes y jueves a de 1 a 2 estará caleb para dudas. Oficina 403. Escribir correo para ver si se puede pasar a la oficina. \n",
    "\n",
    "Llevar dudas puntuales.\n",
    "\n",
    "caleb@unam.mx\n"
   ]
  },
  {
   "attachments": {},
   "cell_type": "markdown",
   "metadata": {},
   "source": [
    "# Recomendaciones \n",
    "- se podría hacer con python\n",
    "- ventana cambiando de tamaño\n",
    "- Se puede almacenar hasta que empiece a detectar las fuentes\n",
    "- Enfocarse en a localización para que la separación sirva mejor lo de ambos\n",
    "- Si solo se quisiera hacer la separación, hay información de la localización de fuentes y se puede usar esa info\n",
    "- En vivo significa AIRA, pero se puede hacer con los micrófonos del profe\n",
    "\n"
   ]
  },
  {
   "attachments": {},
   "cell_type": "markdown",
   "metadata": {},
   "source": [
    "# Información extra\n",
    "\n",
    "- Se pueden usar técnicas avanzadas o de otros lugares.\n",
    "- Se pueden hacer variaciones, etc. \n",
    "- buscar las cosas en google scholar, scopus, \n",
    "- keywords: beamforming, sound source localization (music) checar que están en línea con real time\n",
    "- Vienen los artículos de referencia en la página. \n",
    "\n",
    "\n",
    "\n",
    "\n",
    "\n",
    "\n",
    "\n",
    "\n",
    "\n",
    "\n",
    "\n",
    "\n",
    "\n",
    "\n",
    "\n"
   ]
  },
  {
   "cell_type": "markdown",
   "metadata": {},
   "source": []
  }
 ],
 "metadata": {
  "language_info": {
   "name": "python"
  },
  "orig_nbformat": 4
 },
 "nbformat": 4,
 "nbformat_minor": 2
}
