{
 "cells": [
  {
   "attachments": {},
   "cell_type": "markdown",
   "metadata": {},
   "source": [
    "En la presentación hay un error en la multiplicación de matrices. $S$ debería de ser para una frecuencia solamente. \n",
    "\n",
    "$N=F$ \n",
    "\n",
    "Las frecuencias pueden salir porque se recorren por radianes, y los radianes son varias combinaciones de tiempo y frecuencia"
   ]
  },
  {
   "attachments": {},
   "cell_type": "markdown",
   "metadata": {},
   "source": [
    "Se tiene que hacer una agregación sobre las diferentes frecuencias del espectro de music"
   ]
  },
  {
   "attachments": {},
   "cell_type": "markdown",
   "metadata": {},
   "source": [
    "Empezar a implementarlo, en octave \n",
    "- `audioread` en octave para leer el archivo \n",
    "\n",
    "\n",
    "Plplot: libplplot en c para graficar, no para estar en línea. \n",
    "\n",
    "Gnuplotlib: para graficar en línea de comandos con ascii\n",
    "\n",
    "`jsoncpp` para sacarlo a json\n",
    "\n",
    "Empezar a hacerlo por partes en C para llegar al error.\n",
    "\n"
   ]
  },
  {
   "attachments": {},
   "cell_type": "markdown",
   "metadata": {},
   "source": [
    "La agregación hace el promedio, pero eso puede cancelar algún pico espurio, entonces se puede agregar el máximo. \n",
    "\n",
    "Se pueden filtrar los picos hasta después de que se hace la agregación. La agregación se puede hacer con ANNs. \n",
    "\n",
    "Se necesita que sea en línea. \n",
    "\n",
    "Se puede hacer SVD para hacerlo más rápido\n",
    "\n",
    "Se pueden hacer búsquedas en diferentes direcciones, porque nosotros decidimos como buscar. Esto también se puede ajustar. Se podrían ir haciendo búsquedas no nítidas en ángulos y luego cuando se encuentra algo hacerlo preciso.\n",
    "\n",
    "También se pueden hacer rangos de frecuencias. Discriminar entre algunas que sean algo así como en el rango humano, etc. Si es hombre y mujer ponerlo en sus frecuencias?\n",
    "\n",
    "Estas dos búsquedas se pueden ir aprendiendo, sobre todo en problemas similares de humanos en frecuencias, con LSTM etc."
   ]
  },
  {
   "attachments": {},
   "cell_type": "markdown",
   "metadata": {},
   "source": [
    "# Beamforming\n",
    "\n",
    "Separando y localizando al mismo tiempo. Filtrado direccional. \n",
    "\n",
    "Ya se tiene que saber la dirección, pero como no se sabe se puede hacer un sampleo de ángulos. Miles de filtros corriendo al mismo tiempo, algunos se podrían morir.\n",
    "\n",
    "Steered response power. \n",
    "\n",
    "# Separación de Fuentes\n",
    "\n",
    "Al igual que DOA. Se pueden usar redes neuronales, pero huggingface para hacerlo con machine learning. Facebook denoiser para correr en línea. \n",
    "\n",
    "sepformer para hacer separaciones. \n",
    "\n",
    "se busca una matriz que de $$X=WS$$\n",
    "## Beamforming \n",
    "\n",
    "Direction vector: Qué desfase está ocurriendo en mi señal. \n",
    "\n",
    "Steering vector: Se parece al direction vector. \n",
    "\n",
    "$W$ es la matriz de steering vectors\n",
    "\n",
    "## Análisis estadístico\n",
    "\n",
    "$W$ va a entregar todas las direcciones de señales. \n",
    "\n",
    "Va a regresar sólo un número de señales menor o igual al número de micrófonos\n",
    "\n",
    "Para ver qué tan buena es la manera en la que separamos, vamos a comparar con la original. Esto se hace con todas las señales \n",
    "\n",
    "Razón de señal artefactos es como lo que hace zoom a veces. \n",
    "\n",
    "SOI:source of interest\n",
    "\n",
    "bss: Les das señales originales y las que separó nuestro método. \n",
    "\n",
    "bss_eval_sources: los cálculos de distorsión no son tan buenos. \n",
    "\n",
    "Los SDR, SIR, etc. están medidos en decibeles. Mientras más hay nos dice que es más lo que nos interesa contra lo que no. $20$ db es una muy buena medida de separación. Para aira con $5$ DB\n",
    "\n",
    "No se esperaría que funcione tan bien como el que nos enseñó el profe. \n",
    "\n",
    "Se puede hacer separación de fuentes con un micrófono.\n",
    "\n",
    "Son las métricas con las que se puede revisar si funciona nuestro método de separación.\n",
    "\n",
    "perm es el orden de permutación, dice cuál se parece a cuál de los que separamos contra los que medimos al inicio. \n",
    "\n",
    "El orden es el de las señales que alimentamos en el segundo argumento. "
   ]
  },
  {
   "attachments": {},
   "cell_type": "markdown",
   "metadata": {},
   "source": [
    "## Beamforming para separar señales\n",
    "\n",
    "La dimensionalidad del arreglo corresponde con la de las señales. \n",
    "\n",
    "Cuando hay una señal detrás de otra no se podría separar, pero una en la dirección opuesta si. \n",
    "\n",
    "No se podría arreglar eso apagando un micrófono?\n",
    "\n",
    "Delay and sum realmente es delay and average. \n",
    "\n",
    "La señal no cabe en los micrófonos, se le puede poner un jack simple agent de frecuencia baja para mostrar ese fenómeno. \n",
    "\n",
    "Se puede simular un micrófono que esté más lejos. \n",
    "\n",
    "Spatial aliasing para resolver el problema de cosas llegando en fase porque su delay es igual a un periodo. \n",
    "\n",
    "Hay tradeoffs con la distancia entre micrófonos. Pero hay un rango de distancias entre micrófonos donde no hay tanto daño. Es la distancia de las orejas humanas, pero de los animales?\n",
    "\n",
    "Se puede cambiar también el medio, que se propague diferente y tener mayores o menores frecuencias. \n",
    "\n",
    "Es la base para otro tipo de filtros. \n",
    "\n",
    "La matriz $A^\\dag$ funciona cono $W$ porque estas haciendo el delay en la dirección opuesta al conjugar. "
   ]
  },
  {
   "cell_type": "markdown",
   "metadata": {},
   "source": []
  },
  {
   "cell_type": "markdown",
   "metadata": {},
   "source": []
  },
  {
   "cell_type": "markdown",
   "metadata": {},
   "source": []
  },
  {
   "cell_type": "markdown",
   "metadata": {},
   "source": []
  },
  {
   "attachments": {},
   "cell_type": "markdown",
   "metadata": {},
   "source": [
    "Para el proyecto, hacer análisis estadístico de repeticiones de localización de fuentes mas allá de la media \n"
   ]
  }
 ],
 "metadata": {
  "language_info": {
   "name": "python"
  },
  "orig_nbformat": 4
 },
 "nbformat": 4,
 "nbformat_minor": 2
}
