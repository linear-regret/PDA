{
 "cells": [
  {
   "attachments": {},
   "cell_type": "markdown",
   "metadata": {},
   "source": [
    "Se puede ejecutar un porgrama de bash desde c para que se abra baudline solo?"
   ]
  },
  {
   "attachments": {},
   "cell_type": "markdown",
   "metadata": {},
   "source": [
    "En el programa de bash cómo se le haría para que se corrieranlos agentes con los parámetros correctos y que esperaran mientras uno esta idle?"
   ]
  },
  {
   "attachments": {},
   "cell_type": "markdown",
   "metadata": {},
   "source": [
    "Se pueden factorizar todas las funciones dentro de main para que el código sea más pequeño?"
   ]
  },
  {
   "attachments": {},
   "cell_type": "markdown",
   "metadata": {},
   "source": [
    "En la notación de fftw3 los `fftw_execute` llaman a los callbacks de `i_forward`?"
   ]
  },
  {
   "attachments": {},
   "cell_type": "markdown",
   "metadata": {},
   "source": [
    "Explicar de nuevo porqué son equivalentes y porqué hay que hacer el intercambio en vez de sólo copiar b1 a b2\n",
    "\n",
    "```C\n",
    "for (i = 0; i < fft_size; ++i)\n",
    "  {\n",
    "    b1[i] = b2[i];\n",
    "  }\n",
    "  b_temp = b2;\n",
    "  // Esta linea es necesaria?\n",
    "  b2 = b1;\n",
    "  b1 = b_temp;\n",
    "```\n",
    "\n",
    "También se podría hacer para esta parte?\n",
    "\n",
    "```C\n",
    "// copy in to 1st half of b2\n",
    "  for (i = 0; i < nframes; i++)\n",
    "  {\n",
    "    b2[i] = in[i];\n",
    "  }\n",
    "\n",
    "```"
   ]
  },
  {
   "attachments": {},
   "cell_type": "markdown",
   "metadata": {},
   "source": [
    "Cómo se saca la información de C? Si hacemos el producto punto entre el vector retrasado y el normal nos debería de dar PHAT, pero de ahí?"
   ]
  },
  {
   "attachments": {},
   "cell_type": "markdown",
   "metadata": {},
   "source": [
    "Porqué parece haber un delay de 20ms en vez de 10ms en el programa?"
   ]
  },
  {
   "attachments": {},
   "cell_type": "markdown",
   "metadata": {},
   "source": [
    "Cómo se ve el filtrado de frecuencias en baudline? \n",
    "No lo veo tan claro en el programa que yo hice"
   ]
  },
  {
   "attachments": {},
   "cell_type": "markdown",
   "metadata": {},
   "source": [
    "Cómo se convierte un arreglo en un vector de `eigen` si los que salen en los docs son de 2d y 3d. Con \n",
    "\n",
    "```C\n",
    "Eigen::MatrixXd A(fft_size, 1)\n",
    "```\n",
    "?"
   ]
  },
  {
   "attachments": {},
   "cell_type": "markdown",
   "metadata": {},
   "source": [
    "Para PHAT, la multiplicación de los vectores se tiene que hacer después de un wola, o con el hann completo?"
   ]
  },
  {
   "cell_type": "markdown",
   "metadata": {},
   "source": []
  },
  {
   "cell_type": "markdown",
   "metadata": {},
   "source": []
  },
  {
   "cell_type": "markdown",
   "metadata": {},
   "source": []
  },
  {
   "attachments": {},
   "cell_type": "markdown",
   "metadata": {},
   "source": [
    "Convoluciones para agarrar patrones en políticas y ver estrategias "
   ]
  }
 ],
 "metadata": {
  "language_info": {
   "name": "python"
  },
  "orig_nbformat": 4
 },
 "nbformat": 4,
 "nbformat_minor": 2
}
