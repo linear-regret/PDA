{
 "cells": [
  {
   "attachments": {},
   "cell_type": "markdown",
   "metadata": {},
   "source": [
    "# Preguntas"
   ]
  },
  {
   "attachments": {},
   "cell_type": "markdown",
   "metadata": {},
   "source": [
    "- Porqué parece que el Delay es del doble de lo que le pongo. Tal vez era porque Baudline estaba conectado también al micrófono del sistema, cuando sólo lo conectas al agente parece estar bien.\n",
    "\n",
    "- Se puede no conectar baudline automáticamente a la entrada? Para que sólo se conecte al agente y se vea más ?\n",
    "\n",
    "- Se puede llamar qjackctl para que corra y abra la gráfica de una?"
   ]
  },
  {
   "cell_type": "markdown",
   "metadata": {},
   "source": [
    "# Observaciones"
   ]
  },
  {
   "attachments": {},
   "cell_type": "markdown",
   "metadata": {},
   "source": [
    "El output de baudline no es directamente lo que sale de la computadora, porque es diferente conectar el out del agente a conectar el out de baudline"
   ]
  },
  {
   "attachments": {},
   "cell_type": "markdown",
   "metadata": {},
   "source": [
    "Pasos para conectar con AIRA\n",
    "\n",
    "1. Se llama make para compilar y poner a correr baudline y qjackctl\n",
    "2. Se corre qjackctl\n",
    "3. Se ejecuta el agente\n",
    "4. Se llama aira desde el folder de aira con el siguiente comando `/ReadMicWavs smith input clean-2source 3`"
   ]
  },
  {
   "attachments": {},
   "cell_type": "markdown",
   "metadata": {},
   "source": [
    "Primero hacer la separación de las fuentes con dos micrófonos y PHAT y GCC\n",
    "Meter el tercero y hacer comparaciones entre los 3\n",
    "Después hacer MUSIC"
   ]
  },
  {
   "cell_type": "code",
   "execution_count": null,
   "metadata": {},
   "outputs": [],
   "source": []
  },
  {
   "cell_type": "markdown",
   "metadata": {},
   "source": []
  },
  {
   "cell_type": "markdown",
   "metadata": {},
   "source": []
  },
  {
   "cell_type": "code",
   "execution_count": null,
   "metadata": {},
   "outputs": [],
   "source": []
  }
 ],
 "metadata": {
  "language_info": {
   "name": "python"
  },
  "orig_nbformat": 4
 },
 "nbformat": 4,
 "nbformat_minor": 2
}
