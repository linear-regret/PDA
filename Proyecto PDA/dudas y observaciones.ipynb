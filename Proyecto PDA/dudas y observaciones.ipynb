{
 "cells": [
  {
   "attachments": {},
   "cell_type": "markdown",
   "metadata": {},
   "source": [
    "# Preguntas"
   ]
  },
  {
   "attachments": {},
   "cell_type": "markdown",
   "metadata": {},
   "source": [
    "- Porqué parece que el Delay es del doble de lo que le pongo. Tal vez era porque Baudline estaba conectado también al micrófono del sistema, cuando sólo lo conectas al agente parece estar bien.\n",
    "\n",
    "- Se puede no conectar baudline automáticamente a la entrada? Para que sólo se conecte al agente y se vea más ?\n",
    "\n",
    "- Se puede llamar qjackctl para que corra y abra la gráfica de una?\n",
    "\n",
    "- Porqué no es lo mismo poner la parte real de la ifft de la suma que sacar la ifft por partes"
   ]
  },
  {
   "attachments": {},
   "cell_type": "markdown",
   "metadata": {},
   "source": [
    "# Observaciones"
   ]
  },
  {
   "attachments": {},
   "cell_type": "markdown",
   "metadata": {},
   "source": [
    "El output de baudline no es directamente lo que sale de la computadora, porque es diferente conectar el out del agente a conectar el out de baudline"
   ]
  },
  {
   "attachments": {},
   "cell_type": "markdown",
   "metadata": {},
   "source": [
    "# Conectar con AIRA\n",
    "\n",
    "1. Se llama make para compilar y poner a correr baudline y qjackctl\n",
    "2. Se corre qjackctl\n",
    "3. Se ejecuta el agente\n",
    "4. Se llama aira desde el folder de aira con el siguiente comando `/ReadMicWavs smith input clean-2source 3`"
   ]
  },
  {
   "attachments": {},
   "cell_type": "markdown",
   "metadata": {},
   "source": [
    "# Configuración de jack\n",
    "\n",
    "![JAck](./imgs/jack_config.png)\n",
    "PAra que lo pueda leer bien, hay 4 micrófonos que hacen las cosas un poco diferente"
   ]
  },
  {
   "attachments": {},
   "cell_type": "markdown",
   "metadata": {},
   "source": [
    "Primero hacer la separación de las fuentes con dos micrófonos y PHAT y GCC\n",
    "Meter el tercero y hacer comparaciones entre los 3\n",
    "Después hacer MUSIC"
   ]
  },
  {
   "attachments": {},
   "cell_type": "markdown",
   "metadata": {},
   "source": [
    "Haciendo la CCV y PHAT con una señal aunque sea periódica puede pasar que te encuentres varias periodicidades. La CCV de Pearson si agarra la correlación bien, pero la de Fourier no por el sangrado.\n",
    "\n",
    "![cos_bleed](./imgs/cos_bleed.png)"
   ]
  },
  {
   "attachments": {},
   "cell_type": "markdown",
   "metadata": {},
   "source": [
    "Con wola si separa bien aunque pearson salen picos también en 15 y no en 10, donde saldrían negativos. Y realmente salen en 6 por lo de los índices\n",
    "\n",
    "![wola_bleed](./imgs/2.%20wola_bleed.png)"
   ]
  },
  {
   "attachments": {},
   "cell_type": "markdown",
   "metadata": {},
   "source": [
    "- bajar la distancia entre micrófonos\n",
    "- Poner señales que varíen más en el tiempo\n",
    "- Poner la señal real usando algunas herramientas de python\n",
    "- ver proceso por proceso qué está ocurriendo en cuanto al tiempo que tarda\n",
    "- hacer con y sin wola\n",
    "- Porqué nruidoso es 2 si queremos dos señales?"
   ]
  },
  {
   "cell_type": "code",
   "execution_count": null,
   "metadata": {},
   "outputs": [],
   "source": []
  }
 ],
 "metadata": {
  "language_info": {
   "name": "python"
  },
  "orig_nbformat": 4
 },
 "nbformat": 4,
 "nbformat_minor": 2
}
