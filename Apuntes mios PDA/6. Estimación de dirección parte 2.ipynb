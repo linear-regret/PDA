{
 "cells": [
  {
   "attachments": {},
   "cell_type": "markdown",
   "metadata": {},
   "source": [
    "# 6.2 Correlación con varias fuentes\n",
    "\n",
    "multigcc: varios micrófonos y varias señales\n",
    "\n",
    "Transformada de fourier de un micrófono, luego del otro micrófono y obtenemos el correlograma. Y ya no tenemos que ir recorriendo por ventana.\n",
    "\n",
    "`fftshift` refleja la señal en el espacio de selakes para que quede de acuerdo con los shifts. \n",
    "\n",
    "La transformada de la delta es una constante como una inversa. \n",
    "\n",
    "PHAT es para que salga un pico en vez de una subida y luego una bajada. \n",
    "\n",
    "Vimos las diferentes maneras de medir correlación con Pearson y con PHAT. \n",
    "\n",
    "Reverb es un estiramiento de la señal. PHAT si agarra el pico\n",
    "\n",
    "Se puede hacer algo con la información histórica de los picos, para saber de dónde vienen casi seguramente\n",
    "\n",
    "## Parches con Correlación Cruzada\n",
    "\n",
    "## MUSIC (MUltiple SIgnal Classification)\n",
    "\n",
    "Artículo original del 86 de Schmidt. \n",
    "\n",
    "### Desfase por exponencial imaginaria\n",
    "Imaginamos que sólo tenemos una frecuencia. Esto se hizo para antenas, eso tenía sentido ahí. \n",
    "\n",
    "#### Modelo de Señales Capturadas \n",
    "$$X=SA$$\n",
    "Producto de matrices. La matriz $A$ contiene los vectores de dirección, es decir, tiene en sus filas los diferentes micrófonos y en las columnas sus señales. \n",
    "\n",
    "$X$ obtiene los micrófonos, las señales capturadas por los micrófonos. \n",
    "Esa información ya la tenemos.\n",
    "\n",
    "Es lo que tenemos que estimar para determinar la escena auditiva. \n",
    "\n",
    "Ahora lo que nos toca es estimar la matriz $A$\n",
    "\n",
    "Pero eso es sólo para una frecuencia. Para todas las que tenemos en la muestra tendríamos la generalización a un tensor. \n",
    "\n",
    "\n",
    "ULA: Uniform Linear Array para facilitar las cuentas\n",
    "\n",
    "En AIRA hay un arreglo triangular. "
   ]
  },
  {
   "attachments": {},
   "cell_type": "markdown",
   "metadata": {},
   "source": [
    "vector de dirección es como un radar en el que vamos sampleando. \n",
    "\n",
    "librería `eigen` para sacar toda esta diagonalización y además operaciones de matrices como suma y etc. \n",
    "\n",
    "### Matriz de covarianza\n",
    "$$R=XX^{\\dag}=\\begin{pmatrix}\\text{cov}(x_1,x_1) & \\text{cov}(x_1,x_2)\\\\\\text{cov}(x_2,x_1) & \\text{cov}(x_2,x_2)\\end{pmatrix}$$\n",
    "\n",
    "Se sacaría una matriz de covarianza de cada segmento. Se usa un estimador de la $R$ que va tomando en cuenta la información histórica.\n",
    "\n",
    "Revisar el slide de Sample Variance Matrix. \n",
    "\n",
    "Los eigenvectores dan la dirección de mayor variación que no son de donde provienen las fuentes (vectores de dirección). Si lo son, pero en otro espacio. \n",
    "\n",
    "se asume que uno de esos vectores no es un vector de dirección\n",
    "\n",
    "Se divide el espacio en 2. Una parte que tiene el espacio de ruido.\n",
    "\n",
    "Un eigenvector es el de ruido (el que tiene poca varianza) y se va probando con diferentes vectores hasta que sea ortogonal. \n",
    "\n",
    "Reducción dimensional con PCA y ves cuáles son ortogonales al espacio que no importa. \n",
    "\n",
    "Mientras más vectores ruidosos mejor\n",
    "\n",
    "Vimos el ejemplo en Octave en el que se analizó el desfase de una señal ya hecha \n",
    "\n",
    "Se hizo sólo con la matriz de covarianza en un instante, hay que hacerla de todo el tiempo. \n",
    "\n",
    "MUSIC es bueno con el ruido, pero no con la reverberación\n",
    "\n",
    "\n",
    "\n"
   ]
  },
  {
   "cell_type": "code",
   "execution_count": null,
   "metadata": {},
   "outputs": [],
   "source": []
  },
  {
   "cell_type": "code",
   "execution_count": null,
   "metadata": {},
   "outputs": [],
   "source": []
  },
  {
   "cell_type": "code",
   "execution_count": null,
   "metadata": {},
   "outputs": [],
   "source": []
  }
 ],
 "metadata": {
  "kernelspec": {
   "display_name": "Python 3",
   "language": "python",
   "name": "python3"
  },
  "language_info": {
   "name": "python",
   "version": "3.10.6"
  },
  "orig_nbformat": 4,
  "vscode": {
   "interpreter": {
    "hash": "916dbcbb3f70747c44a77c7bcd40155683ae19c65e1c03b4aa3499c5328201f1"
   }
  }
 },
 "nbformat": 4,
 "nbformat_minor": 2
}
