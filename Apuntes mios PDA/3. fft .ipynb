{
 "cells": [
  {
   "attachments": {},
   "cell_type": "markdown",
   "metadata": {},
   "source": [
    "Hacemos la fft paso a paso. \n",
    "\n",
    "Para la parte del $t/T$ sólo es el índice del arreglo.\n",
    "\n",
    "Se inicializan dos variables para un array \n",
    "\n",
    "Hay que conectar baudeline con los dos outs o ins para que se pueda ver \n",
    "\n",
    "Los microfonos están suficientemente cerca para que se pueda hacer el desplazamiento en los imaginarios.\n",
    "\n",
    "Tener listo el desplazamiento de fase con la exponencial. Poner exponencial en un arreglo aparte, eso se llama peso)\n",
    "\n",
    "Intentar delay y filtro.\n",
    "\n",
    "Poner que si el delay es mayor a la mitad de la ventana no lo haga o lo haga en buffers\n",
    "\n",
    "Ver como hacerlo en varios microfonos como la tarea moral.\n",
    "\n",
    "# Ver ejercicios de epílogos de fourier\n",
    "\n",
    "Ruido musical es de caida rapida de la ventana de frecuencia. Se puede hacer ventanas de hann o tukey\n",
    "\n",
    "\n",
    "\n",
    "\n",
    "\n",
    "\n"
   ]
  },
  {
   "attachments": {},
   "cell_type": "markdown",
   "metadata": {},
   "source": [
    "# Preguntas\n",
    "\n",
    "Cómo cambia el análisis de frecuencias si el hann se hace sobre intervalos más pequeños. Esto se puede hacer?\n",
    "\n",
    "La economía y los fenómenos complejos vive en la ética de la intención\n",
    "\n",
    "También se puede sólo desfasar una frecuencia. Con el ruido no se podría porque es la frecuencia 0, pero así podrías determinar la dirección de una persona sabiendo su frecuencia."
   ]
  },
  {
   "cell_type": "code",
   "execution_count": null,
   "metadata": {},
   "outputs": [],
   "source": []
  }
 ],
 "metadata": {
  "kernelspec": {
   "display_name": "Python 3",
   "language": "python",
   "name": "python3"
  },
  "language_info": {
   "name": "python",
   "version": "3.10.6"
  },
  "orig_nbformat": 4,
  "vscode": {
   "interpreter": {
    "hash": "916dbcbb3f70747c44a77c7bcd40155683ae19c65e1c03b4aa3499c5328201f1"
   }
  }
 },
 "nbformat": 4,
 "nbformat_minor": 2
}
