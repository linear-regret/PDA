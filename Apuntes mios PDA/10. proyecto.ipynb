{
 "cells": [
  {
   "attachments": {},
   "cell_type": "markdown",
   "metadata": {},
   "source": [
    "Enfocarse en a localización para que la separación sirva mejor lo de ambos\n",
    "\n",
    "Pero hay información de la localización de fuentes y se puede usar esa info\n",
    "\n",
    "En vivo significa AIRA pero se puede hacer con los micrófonos del profe\n",
    "\n",
    "## 30 de mayo presentación\n",
    "\n",
    "Un día antes mandar presentación y diapositivas. \n",
    "\n",
    "## martes 25 de abril sesión intermedia\n",
    "\n",
    "nos vemos para ver el progreso. No hay que hacer presentación. \n",
    "\n",
    "Martes y jueves a de 1 a 2 estará caleb para dudas. Oficina 403. Escribir correo para ver si se puede pasar a la oficina. \n",
    "\n",
    "Llevar dudas puntuales.\n",
    "\n",
    "\n",
    "\n",
    "caleb@unam.mx\n"
   ]
  },
  {
   "attachments": {},
   "cell_type": "markdown",
   "metadata": {},
   "source": [
    "se podría hacer con python\n",
    "\n",
    "ventana cambiando de tamaño\n",
    "\n",
    "Se puede almacenar hasta que empiece a detectar las fuentes\n",
    "\n",
    "Resultados con parámetros que se puedan mover tipo dashboards\n",
    "\n"
   ]
  },
  {
   "attachments": {},
   "cell_type": "markdown",
   "metadata": {},
   "source": [
    "Se pueden usar técnicas avanzadas o de otros lugares.\n",
    "\n",
    "Se pueden hacer variaciones, etc. \n",
    "\n",
    "buscar las cosas en google scholar, scopus, \n",
    "\n",
    "keywords: beamforming, sound source localization (music) checar que están en línea con real time\n",
    "\n",
    "Vienen los artículos de referencia en la página. \n",
    "\n",
    "\n",
    "\n",
    "\n",
    "\n",
    "\n",
    "\n",
    "\n",
    "\n",
    "\n",
    "\n",
    "\n",
    "\n",
    "\n",
    "\n"
   ]
  },
  {
   "cell_type": "markdown",
   "metadata": {},
   "source": []
  },
  {
   "cell_type": "markdown",
   "metadata": {},
   "source": []
  },
  {
   "cell_type": "markdown",
   "metadata": {},
   "source": []
  },
  {
   "cell_type": "markdown",
   "metadata": {},
   "source": []
  },
  {
   "cell_type": "markdown",
   "metadata": {},
   "source": []
  }
 ],
 "metadata": {
  "language_info": {
   "name": "python"
  },
  "orig_nbformat": 4
 },
 "nbformat": 4,
 "nbformat_minor": 2
}
