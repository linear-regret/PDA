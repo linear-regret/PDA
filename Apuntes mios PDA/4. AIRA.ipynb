{
 "cells": [
  {
   "attachments": {},
   "cell_type": "markdown",
   "metadata": {},
   "source": [
    "# 28/02\n",
    "\n",
    "- Viendo cosas de micrófonos. \n",
    "- Tener cuidado que los experimentos sean reproducibles. \n",
    "- Se puede usar audio pregrabado para replicar siempre lo mismo\n",
    "- AIRA es un corpus de micrófonos puestos en un triángulo equilatero \n",
    "- Corpus de Luis Pineda para hacer analizar audios que suenan en bocinas tipo monitor\n",
    "    - Es importante porque tiene una caracterización cercana a 1.  \n",
    "\n",
    "- Autoregresión para ver delay. \n",
    "- Hablar como alguien más. \n",
    "- AR para encontrar el ángulo. AM para ver las transformaciones correcta. \n",
    "\n",
    "## Archivo de info.txt\n",
    "- Lista de distancia de micrófonos\n",
    "- Lista de posiciones de fuentes\n",
    "\n",
    "Ya hay agentes de JACK que hacen el trabajo de leer la información de los micrófonos\n",
    "\n",
    "\n",
    "Los siguientes archivos son para aquello de la reproducibilidad \n",
    "\n",
    "`./ReadMicWavs in_to_out input_ corpus48000/clean-2source/ 2` crea agente que tiene dos salidas. Esto le da la salida del agente in_t_out a a readmicwavs con la nomenclatura de nombres que todos van como input_1, input_2, etc. Luego le dices el archivo y después el número de fuentes\n",
    "\n",
    "`./ReadMicWavs in_to_out input_ corpus48000/clean-2source/ 2 1 2` los números del final son para cambiar la manera en que se conectan de entradas a salidas\n",
    "\n",
    "## Octave o Matlab\n",
    "Bajar para verlo a más alto nivel\n",
    "\n",
    "\n"
   ]
  },
  {
   "attachments": {},
   "cell_type": "markdown",
   "metadata": {},
   "source": [
    "# Localización de fuentes\n",
    "\n",
    "Sólo se hará con dirección de arribo. \n",
    "\n",
    "Aproximación de campo lejano. La distancia entre la fuente y el centroide de los micrófonos es mucho menor a la distancia entre los micrófonos. \n",
    "\n",
    "El problema para calcular el ángulo de la fuente sonora se reduce a encontrar el desfasamiento. \n",
    "\n",
    "La similitud coseno se usa porque mide propociones entre features, pero no diferencias de escala. Es el coeficiente de Pearson aplicado a cada variable es el producto punto. La varianza muestral está abajo si estan cerntrados los vectores\n",
    "\n",
    "\n",
    "Covarianza cuando está centrada. \n",
    "\n",
    "Correlograma es ver esto con cada uno de los delays. Sacar esto para señales desfasadas en python.\n",
    "\n"
   ]
  },
  {
   "cell_type": "markdown",
   "metadata": {},
   "source": []
  },
  {
   "cell_type": "markdown",
   "metadata": {},
   "source": []
  },
  {
   "cell_type": "markdown",
   "metadata": {},
   "source": []
  },
  {
   "cell_type": "markdown",
   "metadata": {},
   "source": []
  },
  {
   "cell_type": "markdown",
   "metadata": {},
   "source": []
  },
  {
   "cell_type": "code",
   "execution_count": null,
   "metadata": {},
   "outputs": [],
   "source": []
  }
 ],
 "metadata": {
  "kernelspec": {
   "display_name": "Python 3",
   "language": "python",
   "name": "python3"
  },
  "language_info": {
   "name": "python",
   "version": "3.10.6"
  },
  "orig_nbformat": 4,
  "vscode": {
   "interpreter": {
    "hash": "916dbcbb3f70747c44a77c7bcd40155683ae19c65e1c03b4aa3499c5328201f1"
   }
  }
 },
 "nbformat": 4,
 "nbformat_minor": 2
}
