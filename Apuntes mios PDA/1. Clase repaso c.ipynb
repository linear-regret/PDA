{
 "cells": [
  {
   "attachments": {},
   "cell_type": "markdown",
   "metadata": {},
   "source": [
    "Compilar es pasar de un lenguaje a otro\n",
    "\n",
    "La función main le puede mandar un código de error a otro programa.\n",
    "\n",
    "exit es para errores, lo vimos en concurrente. \n",
    "\n",
    "Poner break en casos mutuamente excluyentes de los switches\n",
    "\n",
    "sleep(-1) pone al programa en standby pero opuesto a while(true) no está checando constantemente\n",
    "\n",
    "Para guardar el último valor de un índice en un for lo declaras antes y lo asignas adentro\n",
    "```C\n",
    "int i,j\n",
    "for(i=0,j=0;i<10>)\n",
    "```\n",
    "\n",
    "## Apuntadores\n",
    "Valor númerico de la dirección de memoria\n",
    "```C\n",
    "int *b;\n",
    "b=malloc(2*sizeof(int));\n",
    "```\n",
    "\n",
    "```C\n",
    "&a\n",
    "```\n",
    "\n",
    "es el apuntador de la variable\n",
    "\n",
    "atoi\n",
    "atof\n",
    "\n",
    "### Tarea para la próxima clase"
   ]
  },
  {
   "cell_type": "code",
   "execution_count": null,
   "metadata": {},
   "outputs": [],
   "source": []
  },
  {
   "attachments": {},
   "cell_type": "markdown",
   "metadata": {},
   "source": [
    "# Clase de ver tarea de C\n",
    "\n",
    "- bash viene de sh\n",
    "- No es compilado\n",
    "    - lo hace más lento\n",
    "\n",
    "Hacer un archivo ejecutable\n",
    "\n",
    "```\n",
    "chmod +x ruta_archivo\n",
    "```\n",
    "\n",
    "para hacer cosas de manera concurrente, poner & y un & con nada al final te deja control del foreground.\n",
    "\n",
    "Para matar procesos en el background no basta cerrar la terminal, te tienes que ir a otra poner `ps` y terminar thread problemático con `kill`\n",
    "\n",
    "`grep`: general regular expressions processor. \n",
    "\n",
    "Todo es un archivo en linux, entonces se pueden ligar con pipes\n",
    "\n",
    "```\n",
    "ps ux | grep ping -\n",
    "```\n",
    "\n",
    "`ls -al` es lo mismo a `ll`\n",
    "\n",
    "`ctrl+r` para buscar un comando y se puede ir buscando entre coincidencias con más `ctrl+r`\n",
    "\n",
    "# Ir corriendo la instalación de jack"
   ]
  },
  {
   "cell_type": "markdown",
   "metadata": {},
   "source": []
  }
 ],
 "metadata": {
  "kernelspec": {
   "display_name": "Python 3",
   "language": "python",
   "name": "python3"
  },
  "language_info": {
   "codemirror_mode": {
    "name": "ipython",
    "version": 3
   },
   "file_extension": ".py",
   "mimetype": "text/x-python",
   "name": "python",
   "nbconvert_exporter": "python",
   "pygments_lexer": "ipython3",
   "version": "3.10.6"
  },
  "orig_nbformat": 4,
  "vscode": {
   "interpreter": {
    "hash": "916dbcbb3f70747c44a77c7bcd40155683ae19c65e1c03b4aa3499c5328201f1"
   }
  }
 },
 "nbformat": 4,
 "nbformat_minor": 2
}
