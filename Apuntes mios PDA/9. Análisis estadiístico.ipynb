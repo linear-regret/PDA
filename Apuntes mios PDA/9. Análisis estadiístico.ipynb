{
 "cells": [
  {
   "attachments": {},
   "cell_type": "markdown",
   "metadata": {},
   "source": [
    "# Beamforming \n",
    "\n",
    "En GSC se puede tratar a la $y$ \n",
    "\n",
    "Sobrelape con buffers serían 3 buffers para análisis y 1 para síntesis. \n",
    "\n",
    "Se hace wola de ida a 3 micrófonos, pero se regresa sólo un valor. "
   ]
  },
  {
   "attachments": {},
   "cell_type": "markdown",
   "metadata": {},
   "source": [
    "# Análisis estadístico\n",
    "\n",
    "Estas técnicas no necesitan conocer el número de fuentes.\n",
    "\n",
    "- PCA\n",
    "- Independent Component Analysis\n",
    "- Non negative Matrix Factorization"
   ]
  },
  {
   "attachments": {},
   "cell_type": "markdown",
   "metadata": {},
   "source": [
    "## PCA\n",
    "\n",
    "problema en línea porque no sabes cuál le corresponde a cuál en el tiempo\n",
    "\n",
    "No es bueno aunque tal vez con otro producto punto se podría?"
   ]
  },
  {
   "attachments": {},
   "cell_type": "markdown",
   "metadata": {},
   "source": [
    "## Independent Component Analysis\n",
    "\n",
    "ICA sólo dice que son independientes, no ortogonales. \n",
    "\n",
    "Independencia implica no-correlación. Minimizar información mutua de las señales, diferencia entre las entropías de las señales.\n",
    "\n",
    "Que significa la entropía en señales?\n",
    "\n",
    "Quien sabe si se puedan combinar para reproducir las señales originales.\n",
    "\n",
    "Para nuestros propósitos no se puede mucho.\n",
    "\n",
    "Independencia ayuda a no tomar en cuenta reverberación como diferentes fuente.  "
   ]
  },
  {
   "attachments": {},
   "cell_type": "markdown",
   "metadata": {},
   "source": [
    "## Non-negative Matrix Factorization\n",
    "\n",
    "Ninguno de estos métodos funciona bien con desfase porque es como si se cambiara de columna en un DF\n",
    "\n",
    "Entonces te vas a Fourier. Pero no existe negativos en complejos, entonces sacas magnitud y funciona más o menos bien. \n",
    "\n",
    "\n"
   ]
  },
  {
   "attachments": {},
   "cell_type": "markdown",
   "metadata": {},
   "source": [
    "No funciona mucho el blind source separation. \n",
    "\n",
    "## Geometric Source Separation (GSS)\n",
    "\n",
    "Esto suena mucho a multiobjective. \n",
    "\n",
    "Ver lo de Independencia en términos de teoría de la información\n"
   ]
  },
  {
   "attachments": {},
   "cell_type": "markdown",
   "metadata": {},
   "source": [
    "Los problemas estadísticos no han sido desarrollados bien. Pero hay versiones que tal vez si funcionan. \n",
    "\n",
    "Se pueden usar para desempate o para ensambles?\n",
    "\n",
    "Geometric Source Separation en JACK "
   ]
  },
  {
   "cell_type": "code",
   "execution_count": null,
   "metadata": {
    "vscode": {
     "languageId": "plaintext"
    }
   },
   "outputs": [],
   "source": []
  },
  {
   "cell_type": "code",
   "execution_count": null,
   "metadata": {
    "vscode": {
     "languageId": "plaintext"
    }
   },
   "outputs": [],
   "source": []
  },
  {
   "cell_type": "code",
   "execution_count": null,
   "metadata": {
    "vscode": {
     "languageId": "plaintext"
    }
   },
   "outputs": [],
   "source": []
  },
  {
   "cell_type": "code",
   "execution_count": null,
   "metadata": {
    "vscode": {
     "languageId": "plaintext"
    }
   },
   "outputs": [],
   "source": []
  },
  {
   "cell_type": "code",
   "execution_count": null,
   "metadata": {
    "vscode": {
     "languageId": "plaintext"
    }
   },
   "outputs": [],
   "source": []
  }
 ],
 "metadata": {
  "language_info": {
   "name": "python"
  },
  "orig_nbformat": 4
 },
 "nbformat": 4,
 "nbformat_minor": 2
}
